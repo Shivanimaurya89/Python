{
 "cells": [
  {
   "cell_type": "markdown",
   "metadata": {},
   "source": [
    "## Assignment one"
   ]
  },
  {
   "cell_type": "raw",
   "metadata": {},
   "source": [
    "Question1: Write a Python function to remove duplicates from a list while maintaining the original order."
   ]
  },
  {
   "cell_type": "code",
   "execution_count": 16,
   "metadata": {},
   "outputs": [
    {
     "name": "stdout",
     "output_type": "stream",
     "text": [
      "[1, 2, 3, 4, 5, 6]\n"
     ]
    }
   ],
   "source": [
    "new_list = [1,2,3,4,3,4,5,6,2,6,4,5,]\n",
    "original_list = []\n",
    "for item in my_list:\n",
    "    if item not in original_list:\n",
    "        original_list.append(item)\n",
    "\n",
    "print(original_list)"
   ]
  },
  {
   "cell_type": "raw",
   "metadata": {},
   "source": [
    "Question2: Write a Python function to count the frequency of characters in a string using a dictionary."
   ]
  },
  {
   "cell_type": "code",
   "execution_count": 19,
   "metadata": {},
   "outputs": [],
   "source": [
    "def count_char_frequency():\n",
    "    frequency = {} \n",
    "    \n",
    "    for char in input_string:\n",
    "        if char in frequency:\n",
    "            frequency[char] += 1  \n",
    "        else:\n",
    "            frequency[char] = 1   \n",
    "            \n",
    "    return frequency"
   ]
  },
  {
   "cell_type": "code",
   "execution_count": 23,
   "metadata": {},
   "outputs": [
    {
     "name": "stdout",
     "output_type": "stream",
     "text": [
      "{'H': 1, 'e': 1, 'l': 2, 'o': 1, ' ': 1, 'S': 1, 'h': 1, 'i': 2, 'v': 1, 'a': 1, 'n': 1}\n"
     ]
    }
   ],
   "source": [
    "input_string = \"Hello Shivani\"\n",
    "char_count = count_char_frequency()\n",
    "print(char_count)"
   ]
  },
  {
   "cell_type": "raw",
   "metadata": {},
   "source": [
    "Question3: Write a Python function to sort a list of tuples based on the second element in each tuple."
   ]
  },
  {
   "cell_type": "code",
   "execution_count": 25,
   "metadata": {},
   "outputs": [
    {
     "name": "stdout",
     "output_type": "stream",
     "text": [
      "[('Ansh', 9), ('Payal', 10), ('Anjali', 20), ('Saniya', 22), ('Anamika', 29)]\n"
     ]
    }
   ],
   "source": [
    "student = (('Anjali',20),('Anamika',29),('Saniya',22),('Payal',10),('Ansh',9))\n",
    "result = sorted(student, key=lambda x: x[1])\n",
    "print(result)"
   ]
  },
  {
   "cell_type": "raw",
   "metadata": {},
   "source": [
    "Question4: Write a Python program to merge two dictionaries."
   ]
  },
  {
   "cell_type": "code",
   "execution_count": 35,
   "metadata": {},
   "outputs": [],
   "source": [
    "fruits = {'A':'Apple','B':'Banana','C':'Cherry','O':'Orange'}\n",
    "vegetables = {'T':'Tomato','L':'Ladyfinger','P':'Patoto','S':'Spanich'}\n",
    "\n",
    "def merg_dicts(fruits,vegetables):\n",
    "    fruits.update(vegetables)\n",
    "    return(fruits) "
   ]
  },
  {
   "cell_type": "code",
   "execution_count": 36,
   "metadata": {},
   "outputs": [
    {
     "data": {
      "text/plain": [
       "{'A': 'Apple',\n",
       " 'B': 'Banana',\n",
       " 'C': 'Cherry',\n",
       " 'O': 'Orange',\n",
       " 'T': 'Tomato',\n",
       " 'L': 'Ladyfinger',\n",
       " 'P': 'Patoto',\n",
       " 'S': 'Spanich'}"
      ]
     },
     "execution_count": 36,
     "metadata": {},
     "output_type": "execute_result"
    }
   ],
   "source": [
    "merg_dicts(fruits,vegetables)"
   ]
  },
  {
   "cell_type": "raw",
   "metadata": {},
   "source": [
    "Question5: Write a Python function to find the second largest number in a list."
   ]
  },
  {
   "cell_type": "code",
   "execution_count": 37,
   "metadata": {},
   "outputs": [],
   "source": [
    "num = [30,56,44,89,20,90]\n",
    "\n",
    "def second_largest(num):\n",
    "    unique_numbers = list(set(num)) \n",
    "    if len(unique_numbers) < 2:\n",
    "        return None  \n",
    "    unique_numbers.sort(reverse=True)\n",
    "    return unique_numbers[1]  "
   ]
  },
  {
   "cell_type": "code",
   "execution_count": 40,
   "metadata": {},
   "outputs": [
    {
     "data": {
      "text/plain": [
       "89"
      ]
     },
     "execution_count": 40,
     "metadata": {},
     "output_type": "execute_result"
    }
   ],
   "source": [
    "second_largest(num)"
   ]
  },
  {
   "cell_type": "raw",
   "metadata": {},
   "source": [
    "Question6: Write a Python function to find the smallest number in a list."
   ]
  },
  {
   "cell_type": "code",
   "execution_count": 42,
   "metadata": {},
   "outputs": [],
   "source": [
    "numbers =[2,78,9,56,3,66,11]\n",
    "def smallest_num(numbers):\n",
    "    if not numbers:  \n",
    "        return None \n",
    "    return min(numbers)"
   ]
  },
  {
   "cell_type": "code",
   "execution_count": 43,
   "metadata": {},
   "outputs": [
    {
     "data": {
      "text/plain": [
       "2"
      ]
     },
     "execution_count": 43,
     "metadata": {},
     "output_type": "execute_result"
    }
   ],
   "source": [
    "smallest_num(numbers)"
   ]
  },
  {
   "cell_type": "raw",
   "metadata": {},
   "source": [
    "Question7: Write a Python program to reverse a given list"
   ]
  },
  {
   "cell_type": "code",
   "execution_count": 45,
   "metadata": {},
   "outputs": [],
   "source": [
    "names = [\"Anjali\",\"Anamika\",\"Saniya\",\"Payal\",\"Ansh\"]\n",
    "names.reverse()"
   ]
  },
  {
   "cell_type": "code",
   "execution_count": 46,
   "metadata": {},
   "outputs": [
    {
     "data": {
      "text/plain": [
       "['Ansh', 'Payal', 'Saniya', 'Anamika', 'Anjali']"
      ]
     },
     "execution_count": 46,
     "metadata": {},
     "output_type": "execute_result"
    }
   ],
   "source": [
    "names"
   ]
  },
  {
   "cell_type": "raw",
   "metadata": {},
   "source": [
    "Question8: Write a Python program to count the number of vowels in a given string."
   ]
  },
  {
   "cell_type": "code",
   "execution_count": 54,
   "metadata": {},
   "outputs": [
    {
     "name": "stdout",
     "output_type": "stream",
     "text": [
      "6\n"
     ]
    }
   ],
   "source": [
    "greeting = \" Welcome to the World \"\n",
    "count = 0\n",
    "vowels = ('a', 'e', 'i', 'o', 'u')\n",
    "\n",
    "for letter in greeting:\n",
    "    if letter in vowels:\n",
    "            count=count+1\n",
    "print(count)"
   ]
  },
  {
   "cell_type": "raw",
   "metadata": {},
   "source": [
    "Question9: Write a Python program to find the maximum of three numbers."
   ]
  },
  {
   "cell_type": "code",
   "execution_count": 60,
   "metadata": {},
   "outputs": [],
   "source": [
    "a = 45\n",
    "b = 35\n",
    "c = 55\n",
    "\n",
    "def maximum (a, b, c):\n",
    "    if a >= b and a >= c:\n",
    "        return a\n",
    "    elif b >= a and b >= c:\n",
    "        return b\n",
    "    else:\n",
    "        return c"
   ]
  },
  {
   "cell_type": "code",
   "execution_count": 61,
   "metadata": {},
   "outputs": [
    {
     "data": {
      "text/plain": [
       "55"
      ]
     },
     "execution_count": 61,
     "metadata": {},
     "output_type": "execute_result"
    }
   ],
   "source": [
    "maximum (a, b, c)"
   ]
  },
  {
   "cell_type": "raw",
   "metadata": {},
   "source": [
    "Question10: Write a Python function to count the number of lines, words, and characters in a file."
   ]
  },
  {
   "cell_type": "code",
   "execution_count": 63,
   "metadata": {},
   "outputs": [
    {
     "name": "stdout",
     "output_type": "stream",
     "text": [
      "Error: The file at 'example.txt' was not found.\n"
     ]
    }
   ],
   "source": [
    "def count_file_elements(file_path):\n",
    "    try:\n",
    "        # Initialize counters\n",
    "        line_count = 0\n",
    "        word_count = 0\n",
    "        char_count = 0\n",
    "        \n",
    "        # Open the file for reading\n",
    "        with open(file_path, 'r') as file:\n",
    "            for line in file:\n",
    "                line_count += 1  # Increment the line count for each line\n",
    "                word_count += len(line.split())  # Split the line into words and count them\n",
    "                char_count += len(line)  # Count the number of characters in the line\n",
    "                \n",
    "        return line_count, word_count, char_count\n",
    "    except FileNotFoundError:\n",
    "        print(f\"Error: The file at '{file_path}' was not found.\")\n",
    "        return None, None, None\n",
    "\n",
    "file_path = 'example.txt'  # Path to the file you want to analyze\n",
    "lines, words, characters = count_file_elements(file_path)\n",
    "\n",
    "if lines is not None:\n",
    "    print(f\"Lines: {lines}\")\n",
    "    print(f\"Words: {words}\")\n",
    "    print(f\"Characters: {characters}\")"
   ]
  },
  {
   "cell_type": "code",
   "execution_count": null,
   "metadata": {},
   "outputs": [],
   "source": []
  }
 ],
 "metadata": {
  "kernelspec": {
   "display_name": "Python 3 (ipykernel)",
   "language": "python",
   "name": "python3"
  },
  "language_info": {
   "codemirror_mode": {
    "name": "ipython",
    "version": 3
   },
   "file_extension": ".py",
   "mimetype": "text/x-python",
   "name": "python",
   "nbconvert_exporter": "python",
   "pygments_lexer": "ipython3",
   "version": "3.11.3"
  }
 },
 "nbformat": 4,
 "nbformat_minor": 1
}
